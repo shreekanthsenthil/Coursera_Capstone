{
 "cells": [
  {
   "cell_type": "markdown",
   "metadata": {},
   "source": [
    "<H3>Capstone Project - The Battle of Neighborhoods (Week 1)</H3>"
   ]
  },
  {
   "cell_type": "markdown",
   "metadata": {},
   "source": [
    "<H4># Introduction: Business Problem: </H4>\n",
    "\n",
    "Houston is the fourth most populous city in the United States with a median age of 31. The demographic offers an exciting opportunity for entrepreneurs to open a Bar in the city. However, owning and operating a bar can be a daunting task. Several factors must be considered, such as foot traffic, property prices etc.\n",
    "\n",
    "The most important factor in opening a bar is the location of the bar. A residential area with many schools for instance would not be a suitable location and might lead to problems such as noise complaints and issues obtaining a liquor license. It is important to pick a location where other bars are operating successfully.\n",
    "\n",
    "Another important decision is the type of bar. There are several categories of bars such as breweries, pubs etc. and each kind of bar has unique requirements. For instance, a Sports Bar would require additional investment in quality screens and audio systems for patrons to watch events.\n",
    "\n",
    "In this project we will try to find an ideal location for a Bar. The target audience is an investor looking to open a bar in Houston.\n",
    "\n",
    "\n"
   ]
  },
  {
   "cell_type": "markdown",
   "metadata": {},
   "source": [
    "<H4># Data and Solving problem: </H4>\n",
    "\n",
    "We will be using a list of zip codes in Houston scrapped from website – https://www.zip-codes.com/city/tx-houston.asp for analysis. We will use the zipcodes as Input for FourSquare API and fetch all the different bars within a 5000 meters radius.\n",
    "\n",
    "We will further analyze the top five zipcodes with the maximum number of bars and provide a breakdown of the categories of bars in the area so that the investor can determine which type of bar to open."
   ]
  },
  {
   "cell_type": "code",
   "execution_count": null,
   "metadata": {},
   "outputs": [],
   "source": []
  }
 ],
 "metadata": {
  "kernelspec": {
   "display_name": "Python 3",
   "language": "python",
   "name": "python3"
  },
  "language_info": {
   "codemirror_mode": {
    "name": "ipython",
    "version": 3
   },
   "file_extension": ".py",
   "mimetype": "text/x-python",
   "name": "python",
   "nbconvert_exporter": "python",
   "pygments_lexer": "ipython3",
   "version": "3.7.3"
  }
 },
 "nbformat": 4,
 "nbformat_minor": 2
}
